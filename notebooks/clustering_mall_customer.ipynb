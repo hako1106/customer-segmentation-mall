{
 "cells": [
  {
   "cell_type": "code",
   "execution_count": 32,
   "metadata": {},
   "outputs": [],
   "source": [
    "import pandas as pd\n",
    "import matplotlib.pyplot as plt\n",
    "import seaborn as sns\n",
    "from sklearn.cluster import KMeans\n",
    "from sklearn.preprocessing import LabelEncoder\n",
    "from sklearn.decomposition import PCA\n",
    "from sklearn.metrics import silhouette_score, davies_bouldin_score, calinski_harabasz_score\n",
    "from yellowbrick.cluster import SilhouetteVisualizer, KElbowVisualizer\n",
    "import warnings\n",
    "\n",
    "# Suppress UserWarning\n",
    "warnings.filterwarnings(\"ignore\", category=UserWarning)"
   ]
  },
  {
   "cell_type": "code",
   "execution_count": 33,
   "metadata": {},
   "outputs": [
    {
     "data": {
      "application/vnd.microsoft.datawrangler.viewer.v0+json": {
       "columns": [
        {
         "name": "index",
         "rawType": "int64",
         "type": "integer"
        },
        {
         "name": "CustomerID",
         "rawType": "int64",
         "type": "integer"
        },
        {
         "name": "Genre",
         "rawType": "object",
         "type": "string"
        },
        {
         "name": "Age",
         "rawType": "int64",
         "type": "integer"
        },
        {
         "name": "Annual Income (k$)",
         "rawType": "int64",
         "type": "integer"
        },
        {
         "name": "Spending Score (1-100)",
         "rawType": "int64",
         "type": "integer"
        }
       ],
       "conversionMethod": "pd.DataFrame",
       "ref": "8d9e8388-f5ee-49c9-8c61-676c9af74f05",
       "rows": [
        [
         "0",
         "1",
         "Male",
         "19",
         "15",
         "39"
        ],
        [
         "1",
         "2",
         "Male",
         "21",
         "15",
         "81"
        ],
        [
         "2",
         "3",
         "Female",
         "20",
         "16",
         "6"
        ],
        [
         "3",
         "4",
         "Female",
         "23",
         "16",
         "77"
        ],
        [
         "4",
         "5",
         "Female",
         "31",
         "17",
         "40"
        ],
        [
         "5",
         "6",
         "Female",
         "22",
         "17",
         "76"
        ],
        [
         "6",
         "7",
         "Female",
         "35",
         "18",
         "6"
        ],
        [
         "7",
         "8",
         "Female",
         "23",
         "18",
         "94"
        ],
        [
         "8",
         "9",
         "Male",
         "64",
         "19",
         "3"
        ],
        [
         "9",
         "10",
         "Female",
         "30",
         "19",
         "72"
        ],
        [
         "10",
         "11",
         "Male",
         "67",
         "19",
         "14"
        ],
        [
         "11",
         "12",
         "Female",
         "35",
         "19",
         "99"
        ],
        [
         "12",
         "13",
         "Female",
         "58",
         "20",
         "15"
        ],
        [
         "13",
         "14",
         "Female",
         "24",
         "20",
         "77"
        ],
        [
         "14",
         "15",
         "Male",
         "37",
         "20",
         "13"
        ],
        [
         "15",
         "16",
         "Male",
         "22",
         "20",
         "79"
        ],
        [
         "16",
         "17",
         "Female",
         "35",
         "21",
         "35"
        ],
        [
         "17",
         "18",
         "Male",
         "20",
         "21",
         "66"
        ],
        [
         "18",
         "19",
         "Male",
         "52",
         "23",
         "29"
        ],
        [
         "19",
         "20",
         "Female",
         "35",
         "23",
         "98"
        ],
        [
         "20",
         "21",
         "Male",
         "35",
         "24",
         "35"
        ],
        [
         "21",
         "22",
         "Male",
         "25",
         "24",
         "73"
        ],
        [
         "22",
         "23",
         "Female",
         "46",
         "25",
         "5"
        ],
        [
         "23",
         "24",
         "Male",
         "31",
         "25",
         "73"
        ],
        [
         "24",
         "25",
         "Female",
         "54",
         "28",
         "14"
        ],
        [
         "25",
         "26",
         "Male",
         "29",
         "28",
         "82"
        ],
        [
         "26",
         "27",
         "Female",
         "45",
         "28",
         "32"
        ],
        [
         "27",
         "28",
         "Male",
         "35",
         "28",
         "61"
        ],
        [
         "28",
         "29",
         "Female",
         "40",
         "29",
         "31"
        ],
        [
         "29",
         "30",
         "Female",
         "23",
         "29",
         "87"
        ],
        [
         "30",
         "31",
         "Male",
         "60",
         "30",
         "4"
        ],
        [
         "31",
         "32",
         "Female",
         "21",
         "30",
         "73"
        ],
        [
         "32",
         "33",
         "Male",
         "53",
         "33",
         "4"
        ],
        [
         "33",
         "34",
         "Male",
         "18",
         "33",
         "92"
        ],
        [
         "34",
         "35",
         "Female",
         "49",
         "33",
         "14"
        ],
        [
         "35",
         "36",
         "Female",
         "21",
         "33",
         "81"
        ],
        [
         "36",
         "37",
         "Female",
         "42",
         "34",
         "17"
        ],
        [
         "37",
         "38",
         "Female",
         "30",
         "34",
         "73"
        ],
        [
         "38",
         "39",
         "Female",
         "36",
         "37",
         "26"
        ],
        [
         "39",
         "40",
         "Female",
         "20",
         "37",
         "75"
        ],
        [
         "40",
         "41",
         "Female",
         "65",
         "38",
         "35"
        ],
        [
         "41",
         "42",
         "Male",
         "24",
         "38",
         "92"
        ],
        [
         "42",
         "43",
         "Male",
         "48",
         "39",
         "36"
        ],
        [
         "43",
         "44",
         "Female",
         "31",
         "39",
         "61"
        ],
        [
         "44",
         "45",
         "Female",
         "49",
         "39",
         "28"
        ],
        [
         "45",
         "46",
         "Female",
         "24",
         "39",
         "65"
        ],
        [
         "46",
         "47",
         "Female",
         "50",
         "40",
         "55"
        ],
        [
         "47",
         "48",
         "Female",
         "27",
         "40",
         "47"
        ],
        [
         "48",
         "49",
         "Female",
         "29",
         "40",
         "42"
        ],
        [
         "49",
         "50",
         "Female",
         "31",
         "40",
         "42"
        ]
       ],
       "shape": {
        "columns": 5,
        "rows": 200
       }
      },
      "text/html": [
       "<div>\n",
       "<style scoped>\n",
       "    .dataframe tbody tr th:only-of-type {\n",
       "        vertical-align: middle;\n",
       "    }\n",
       "\n",
       "    .dataframe tbody tr th {\n",
       "        vertical-align: top;\n",
       "    }\n",
       "\n",
       "    .dataframe thead th {\n",
       "        text-align: right;\n",
       "    }\n",
       "</style>\n",
       "<table border=\"1\" class=\"dataframe\">\n",
       "  <thead>\n",
       "    <tr style=\"text-align: right;\">\n",
       "      <th></th>\n",
       "      <th>CustomerID</th>\n",
       "      <th>Genre</th>\n",
       "      <th>Age</th>\n",
       "      <th>Annual Income (k$)</th>\n",
       "      <th>Spending Score (1-100)</th>\n",
       "    </tr>\n",
       "  </thead>\n",
       "  <tbody>\n",
       "    <tr>\n",
       "      <th>0</th>\n",
       "      <td>1</td>\n",
       "      <td>Male</td>\n",
       "      <td>19</td>\n",
       "      <td>15</td>\n",
       "      <td>39</td>\n",
       "    </tr>\n",
       "    <tr>\n",
       "      <th>1</th>\n",
       "      <td>2</td>\n",
       "      <td>Male</td>\n",
       "      <td>21</td>\n",
       "      <td>15</td>\n",
       "      <td>81</td>\n",
       "    </tr>\n",
       "    <tr>\n",
       "      <th>2</th>\n",
       "      <td>3</td>\n",
       "      <td>Female</td>\n",
       "      <td>20</td>\n",
       "      <td>16</td>\n",
       "      <td>6</td>\n",
       "    </tr>\n",
       "    <tr>\n",
       "      <th>3</th>\n",
       "      <td>4</td>\n",
       "      <td>Female</td>\n",
       "      <td>23</td>\n",
       "      <td>16</td>\n",
       "      <td>77</td>\n",
       "    </tr>\n",
       "    <tr>\n",
       "      <th>4</th>\n",
       "      <td>5</td>\n",
       "      <td>Female</td>\n",
       "      <td>31</td>\n",
       "      <td>17</td>\n",
       "      <td>40</td>\n",
       "    </tr>\n",
       "    <tr>\n",
       "      <th>...</th>\n",
       "      <td>...</td>\n",
       "      <td>...</td>\n",
       "      <td>...</td>\n",
       "      <td>...</td>\n",
       "      <td>...</td>\n",
       "    </tr>\n",
       "    <tr>\n",
       "      <th>195</th>\n",
       "      <td>196</td>\n",
       "      <td>Female</td>\n",
       "      <td>35</td>\n",
       "      <td>120</td>\n",
       "      <td>79</td>\n",
       "    </tr>\n",
       "    <tr>\n",
       "      <th>196</th>\n",
       "      <td>197</td>\n",
       "      <td>Female</td>\n",
       "      <td>45</td>\n",
       "      <td>126</td>\n",
       "      <td>28</td>\n",
       "    </tr>\n",
       "    <tr>\n",
       "      <th>197</th>\n",
       "      <td>198</td>\n",
       "      <td>Male</td>\n",
       "      <td>32</td>\n",
       "      <td>126</td>\n",
       "      <td>74</td>\n",
       "    </tr>\n",
       "    <tr>\n",
       "      <th>198</th>\n",
       "      <td>199</td>\n",
       "      <td>Male</td>\n",
       "      <td>32</td>\n",
       "      <td>137</td>\n",
       "      <td>18</td>\n",
       "    </tr>\n",
       "    <tr>\n",
       "      <th>199</th>\n",
       "      <td>200</td>\n",
       "      <td>Male</td>\n",
       "      <td>30</td>\n",
       "      <td>137</td>\n",
       "      <td>83</td>\n",
       "    </tr>\n",
       "  </tbody>\n",
       "</table>\n",
       "<p>200 rows × 5 columns</p>\n",
       "</div>"
      ],
      "text/plain": [
       "     CustomerID   Genre  Age  Annual Income (k$)  Spending Score (1-100)\n",
       "0             1    Male   19                  15                      39\n",
       "1             2    Male   21                  15                      81\n",
       "2             3  Female   20                  16                       6\n",
       "3             4  Female   23                  16                      77\n",
       "4             5  Female   31                  17                      40\n",
       "..          ...     ...  ...                 ...                     ...\n",
       "195         196  Female   35                 120                      79\n",
       "196         197  Female   45                 126                      28\n",
       "197         198    Male   32                 126                      74\n",
       "198         199    Male   32                 137                      18\n",
       "199         200    Male   30                 137                      83\n",
       "\n",
       "[200 rows x 5 columns]"
      ]
     },
     "execution_count": 33,
     "metadata": {},
     "output_type": "execute_result"
    }
   ],
   "source": [
    "# Read data\n",
    "df = pd.read_csv('../data/mall_customers.csv')\n",
    "df"
   ]
  },
  {
   "cell_type": "code",
   "execution_count": 34,
   "metadata": {},
   "outputs": [
    {
     "data": {
      "application/vnd.microsoft.datawrangler.viewer.v0+json": {
       "columns": [
        {
         "name": "index",
         "rawType": "object",
         "type": "string"
        },
        {
         "name": "CustomerID",
         "rawType": "float64",
         "type": "float"
        },
        {
         "name": "Age",
         "rawType": "float64",
         "type": "float"
        },
        {
         "name": "Annual Income (k$)",
         "rawType": "float64",
         "type": "float"
        },
        {
         "name": "Spending Score (1-100)",
         "rawType": "float64",
         "type": "float"
        }
       ],
       "conversionMethod": "pd.DataFrame",
       "ref": "0618050a-57f4-4621-9eb4-458b844ccc5a",
       "rows": [
        [
         "count",
         "200.0",
         "200.0",
         "200.0",
         "200.0"
        ],
        [
         "mean",
         "100.5",
         "38.85",
         "60.56",
         "50.2"
        ],
        [
         "std",
         "57.879184513951124",
         "13.96900733155888",
         "26.264721165271244",
         "25.823521668370173"
        ],
        [
         "min",
         "1.0",
         "18.0",
         "15.0",
         "1.0"
        ],
        [
         "25%",
         "50.75",
         "28.75",
         "41.5",
         "34.75"
        ],
        [
         "50%",
         "100.5",
         "36.0",
         "61.5",
         "50.0"
        ],
        [
         "75%",
         "150.25",
         "49.0",
         "78.0",
         "73.0"
        ],
        [
         "max",
         "200.0",
         "70.0",
         "137.0",
         "99.0"
        ]
       ],
       "shape": {
        "columns": 4,
        "rows": 8
       }
      },
      "text/html": [
       "<div>\n",
       "<style scoped>\n",
       "    .dataframe tbody tr th:only-of-type {\n",
       "        vertical-align: middle;\n",
       "    }\n",
       "\n",
       "    .dataframe tbody tr th {\n",
       "        vertical-align: top;\n",
       "    }\n",
       "\n",
       "    .dataframe thead th {\n",
       "        text-align: right;\n",
       "    }\n",
       "</style>\n",
       "<table border=\"1\" class=\"dataframe\">\n",
       "  <thead>\n",
       "    <tr style=\"text-align: right;\">\n",
       "      <th></th>\n",
       "      <th>CustomerID</th>\n",
       "      <th>Age</th>\n",
       "      <th>Annual Income (k$)</th>\n",
       "      <th>Spending Score (1-100)</th>\n",
       "    </tr>\n",
       "  </thead>\n",
       "  <tbody>\n",
       "    <tr>\n",
       "      <th>count</th>\n",
       "      <td>200.000000</td>\n",
       "      <td>200.000000</td>\n",
       "      <td>200.000000</td>\n",
       "      <td>200.000000</td>\n",
       "    </tr>\n",
       "    <tr>\n",
       "      <th>mean</th>\n",
       "      <td>100.500000</td>\n",
       "      <td>38.850000</td>\n",
       "      <td>60.560000</td>\n",
       "      <td>50.200000</td>\n",
       "    </tr>\n",
       "    <tr>\n",
       "      <th>std</th>\n",
       "      <td>57.879185</td>\n",
       "      <td>13.969007</td>\n",
       "      <td>26.264721</td>\n",
       "      <td>25.823522</td>\n",
       "    </tr>\n",
       "    <tr>\n",
       "      <th>min</th>\n",
       "      <td>1.000000</td>\n",
       "      <td>18.000000</td>\n",
       "      <td>15.000000</td>\n",
       "      <td>1.000000</td>\n",
       "    </tr>\n",
       "    <tr>\n",
       "      <th>25%</th>\n",
       "      <td>50.750000</td>\n",
       "      <td>28.750000</td>\n",
       "      <td>41.500000</td>\n",
       "      <td>34.750000</td>\n",
       "    </tr>\n",
       "    <tr>\n",
       "      <th>50%</th>\n",
       "      <td>100.500000</td>\n",
       "      <td>36.000000</td>\n",
       "      <td>61.500000</td>\n",
       "      <td>50.000000</td>\n",
       "    </tr>\n",
       "    <tr>\n",
       "      <th>75%</th>\n",
       "      <td>150.250000</td>\n",
       "      <td>49.000000</td>\n",
       "      <td>78.000000</td>\n",
       "      <td>73.000000</td>\n",
       "    </tr>\n",
       "    <tr>\n",
       "      <th>max</th>\n",
       "      <td>200.000000</td>\n",
       "      <td>70.000000</td>\n",
       "      <td>137.000000</td>\n",
       "      <td>99.000000</td>\n",
       "    </tr>\n",
       "  </tbody>\n",
       "</table>\n",
       "</div>"
      ],
      "text/plain": [
       "       CustomerID         Age  Annual Income (k$)  Spending Score (1-100)\n",
       "count  200.000000  200.000000          200.000000              200.000000\n",
       "mean   100.500000   38.850000           60.560000               50.200000\n",
       "std     57.879185   13.969007           26.264721               25.823522\n",
       "min      1.000000   18.000000           15.000000                1.000000\n",
       "25%     50.750000   28.750000           41.500000               34.750000\n",
       "50%    100.500000   36.000000           61.500000               50.000000\n",
       "75%    150.250000   49.000000           78.000000               73.000000\n",
       "max    200.000000   70.000000          137.000000               99.000000"
      ]
     },
     "execution_count": 34,
     "metadata": {},
     "output_type": "execute_result"
    }
   ],
   "source": [
    "df.describe()"
   ]
  },
  {
   "cell_type": "code",
   "execution_count": 35,
   "metadata": {},
   "outputs": [
    {
     "data": {
      "text/plain": [
       "CustomerID                 int64\n",
       "Genre                     object\n",
       "Age                        int64\n",
       "Annual Income (k$)         int64\n",
       "Spending Score (1-100)     int64\n",
       "dtype: object"
      ]
     },
     "execution_count": 35,
     "metadata": {},
     "output_type": "execute_result"
    }
   ],
   "source": [
    "df.dtypes"
   ]
  },
  {
   "cell_type": "code",
   "execution_count": 36,
   "metadata": {},
   "outputs": [
    {
     "data": {
      "text/plain": [
       "CustomerID                0\n",
       "Genre                     0\n",
       "Age                       0\n",
       "Annual Income (k$)        0\n",
       "Spending Score (1-100)    0\n",
       "dtype: int64"
      ]
     },
     "execution_count": 36,
     "metadata": {},
     "output_type": "execute_result"
    }
   ],
   "source": [
    "df.isnull().sum()"
   ]
  },
  {
   "cell_type": "code",
   "execution_count": 37,
   "metadata": {},
   "outputs": [],
   "source": [
    "# Encode the Genre column\n",
    "encoder = LabelEncoder()\n",
    "df[\"Genre\"] = encoder.fit_transform(df[\"Genre\"])"
   ]
  },
  {
   "cell_type": "code",
   "execution_count": 38,
   "metadata": {},
   "outputs": [],
   "source": [
    "# Select columns for clustering\n",
    "features = [\"Genre\", \"Age\", \"Annual Income (k$)\", \"Spending Score (1-100)\"]\n",
    "cluster_features = df[features]"
   ]
  },
  {
   "cell_type": "code",
   "execution_count": 39,
   "metadata": {},
   "outputs": [
    {
     "data": {
      "application/vnd.microsoft.datawrangler.viewer.v0+json": {
       "columns": [
        {
         "name": "index",
         "rawType": "int64",
         "type": "integer"
        },
        {
         "name": "Genre",
         "rawType": "int64",
         "type": "integer"
        },
        {
         "name": "Age",
         "rawType": "int64",
         "type": "integer"
        },
        {
         "name": "Annual Income (k$)",
         "rawType": "int64",
         "type": "integer"
        },
        {
         "name": "Spending Score (1-100)",
         "rawType": "int64",
         "type": "integer"
        }
       ],
       "conversionMethod": "pd.DataFrame",
       "ref": "5334eda6-cd7e-4087-b56d-a34f7f4720d8",
       "rows": [
        [
         "0",
         "1",
         "19",
         "15",
         "39"
        ],
        [
         "1",
         "1",
         "21",
         "15",
         "81"
        ],
        [
         "2",
         "0",
         "20",
         "16",
         "6"
        ],
        [
         "3",
         "0",
         "23",
         "16",
         "77"
        ],
        [
         "4",
         "0",
         "31",
         "17",
         "40"
        ],
        [
         "5",
         "0",
         "22",
         "17",
         "76"
        ],
        [
         "6",
         "0",
         "35",
         "18",
         "6"
        ],
        [
         "7",
         "0",
         "23",
         "18",
         "94"
        ],
        [
         "8",
         "1",
         "64",
         "19",
         "3"
        ],
        [
         "9",
         "0",
         "30",
         "19",
         "72"
        ],
        [
         "10",
         "1",
         "67",
         "19",
         "14"
        ],
        [
         "11",
         "0",
         "35",
         "19",
         "99"
        ],
        [
         "12",
         "0",
         "58",
         "20",
         "15"
        ],
        [
         "13",
         "0",
         "24",
         "20",
         "77"
        ],
        [
         "14",
         "1",
         "37",
         "20",
         "13"
        ],
        [
         "15",
         "1",
         "22",
         "20",
         "79"
        ],
        [
         "16",
         "0",
         "35",
         "21",
         "35"
        ],
        [
         "17",
         "1",
         "20",
         "21",
         "66"
        ],
        [
         "18",
         "1",
         "52",
         "23",
         "29"
        ],
        [
         "19",
         "0",
         "35",
         "23",
         "98"
        ],
        [
         "20",
         "1",
         "35",
         "24",
         "35"
        ],
        [
         "21",
         "1",
         "25",
         "24",
         "73"
        ],
        [
         "22",
         "0",
         "46",
         "25",
         "5"
        ],
        [
         "23",
         "1",
         "31",
         "25",
         "73"
        ],
        [
         "24",
         "0",
         "54",
         "28",
         "14"
        ],
        [
         "25",
         "1",
         "29",
         "28",
         "82"
        ],
        [
         "26",
         "0",
         "45",
         "28",
         "32"
        ],
        [
         "27",
         "1",
         "35",
         "28",
         "61"
        ],
        [
         "28",
         "0",
         "40",
         "29",
         "31"
        ],
        [
         "29",
         "0",
         "23",
         "29",
         "87"
        ],
        [
         "30",
         "1",
         "60",
         "30",
         "4"
        ],
        [
         "31",
         "0",
         "21",
         "30",
         "73"
        ],
        [
         "32",
         "1",
         "53",
         "33",
         "4"
        ],
        [
         "33",
         "1",
         "18",
         "33",
         "92"
        ],
        [
         "34",
         "0",
         "49",
         "33",
         "14"
        ],
        [
         "35",
         "0",
         "21",
         "33",
         "81"
        ],
        [
         "36",
         "0",
         "42",
         "34",
         "17"
        ],
        [
         "37",
         "0",
         "30",
         "34",
         "73"
        ],
        [
         "38",
         "0",
         "36",
         "37",
         "26"
        ],
        [
         "39",
         "0",
         "20",
         "37",
         "75"
        ],
        [
         "40",
         "0",
         "65",
         "38",
         "35"
        ],
        [
         "41",
         "1",
         "24",
         "38",
         "92"
        ],
        [
         "42",
         "1",
         "48",
         "39",
         "36"
        ],
        [
         "43",
         "0",
         "31",
         "39",
         "61"
        ],
        [
         "44",
         "0",
         "49",
         "39",
         "28"
        ],
        [
         "45",
         "0",
         "24",
         "39",
         "65"
        ],
        [
         "46",
         "0",
         "50",
         "40",
         "55"
        ],
        [
         "47",
         "0",
         "27",
         "40",
         "47"
        ],
        [
         "48",
         "0",
         "29",
         "40",
         "42"
        ],
        [
         "49",
         "0",
         "31",
         "40",
         "42"
        ]
       ],
       "shape": {
        "columns": 4,
        "rows": 200
       }
      },
      "text/html": [
       "<div>\n",
       "<style scoped>\n",
       "    .dataframe tbody tr th:only-of-type {\n",
       "        vertical-align: middle;\n",
       "    }\n",
       "\n",
       "    .dataframe tbody tr th {\n",
       "        vertical-align: top;\n",
       "    }\n",
       "\n",
       "    .dataframe thead th {\n",
       "        text-align: right;\n",
       "    }\n",
       "</style>\n",
       "<table border=\"1\" class=\"dataframe\">\n",
       "  <thead>\n",
       "    <tr style=\"text-align: right;\">\n",
       "      <th></th>\n",
       "      <th>Genre</th>\n",
       "      <th>Age</th>\n",
       "      <th>Annual Income (k$)</th>\n",
       "      <th>Spending Score (1-100)</th>\n",
       "    </tr>\n",
       "  </thead>\n",
       "  <tbody>\n",
       "    <tr>\n",
       "      <th>0</th>\n",
       "      <td>1</td>\n",
       "      <td>19</td>\n",
       "      <td>15</td>\n",
       "      <td>39</td>\n",
       "    </tr>\n",
       "    <tr>\n",
       "      <th>1</th>\n",
       "      <td>1</td>\n",
       "      <td>21</td>\n",
       "      <td>15</td>\n",
       "      <td>81</td>\n",
       "    </tr>\n",
       "    <tr>\n",
       "      <th>2</th>\n",
       "      <td>0</td>\n",
       "      <td>20</td>\n",
       "      <td>16</td>\n",
       "      <td>6</td>\n",
       "    </tr>\n",
       "    <tr>\n",
       "      <th>3</th>\n",
       "      <td>0</td>\n",
       "      <td>23</td>\n",
       "      <td>16</td>\n",
       "      <td>77</td>\n",
       "    </tr>\n",
       "    <tr>\n",
       "      <th>4</th>\n",
       "      <td>0</td>\n",
       "      <td>31</td>\n",
       "      <td>17</td>\n",
       "      <td>40</td>\n",
       "    </tr>\n",
       "    <tr>\n",
       "      <th>...</th>\n",
       "      <td>...</td>\n",
       "      <td>...</td>\n",
       "      <td>...</td>\n",
       "      <td>...</td>\n",
       "    </tr>\n",
       "    <tr>\n",
       "      <th>195</th>\n",
       "      <td>0</td>\n",
       "      <td>35</td>\n",
       "      <td>120</td>\n",
       "      <td>79</td>\n",
       "    </tr>\n",
       "    <tr>\n",
       "      <th>196</th>\n",
       "      <td>0</td>\n",
       "      <td>45</td>\n",
       "      <td>126</td>\n",
       "      <td>28</td>\n",
       "    </tr>\n",
       "    <tr>\n",
       "      <th>197</th>\n",
       "      <td>1</td>\n",
       "      <td>32</td>\n",
       "      <td>126</td>\n",
       "      <td>74</td>\n",
       "    </tr>\n",
       "    <tr>\n",
       "      <th>198</th>\n",
       "      <td>1</td>\n",
       "      <td>32</td>\n",
       "      <td>137</td>\n",
       "      <td>18</td>\n",
       "    </tr>\n",
       "    <tr>\n",
       "      <th>199</th>\n",
       "      <td>1</td>\n",
       "      <td>30</td>\n",
       "      <td>137</td>\n",
       "      <td>83</td>\n",
       "    </tr>\n",
       "  </tbody>\n",
       "</table>\n",
       "<p>200 rows × 4 columns</p>\n",
       "</div>"
      ],
      "text/plain": [
       "     Genre  Age  Annual Income (k$)  Spending Score (1-100)\n",
       "0        1   19                  15                      39\n",
       "1        1   21                  15                      81\n",
       "2        0   20                  16                       6\n",
       "3        0   23                  16                      77\n",
       "4        0   31                  17                      40\n",
       "..     ...  ...                 ...                     ...\n",
       "195      0   35                 120                      79\n",
       "196      0   45                 126                      28\n",
       "197      1   32                 126                      74\n",
       "198      1   32                 137                      18\n",
       "199      1   30                 137                      83\n",
       "\n",
       "[200 rows x 4 columns]"
      ]
     },
     "execution_count": 39,
     "metadata": {},
     "output_type": "execute_result"
    }
   ],
   "source": [
    "cluster_features"
   ]
  },
  {
   "cell_type": "code",
   "execution_count": 69,
   "metadata": {},
   "outputs": [
    {
     "data": {
      "image/png": "[encoded data removed]",
      "text/plain": [
       "<Figure size 800x500 with 2 Axes>"
      ]
     },
     "metadata": {},
     "output_type": "display_data"
    },
    {
     "data": {
      "text/plain": [
       "<Axes: title={'center': 'Distortion Score Elbow for KMeans Clustering'}, xlabel='k', ylabel='distortion score'>"
      ]
     },
     "execution_count": 69,
     "metadata": {},
     "output_type": "execute_result"
    }
   ],
   "source": [
    "# Find the optimal number of clusters using the Elbow method\n",
    "fig, ax = plt.subplots(figsize=(8, 5))\n",
    "elbow_visualizer = KElbowVisualizer(KMeans(n_init=10, random_state=42), k=(2, 10), ax=ax)\n",
    "elbow_visualizer.fit(cluster_features)\n",
    "elbow_visualizer.show()"
   ]
  },
  {
   "cell_type": "code",
   "execution_count": 55,
   "metadata": {},
   "outputs": [
    {
     "name": "stdout",
     "output_type": "stream",
     "text": [
      "Optimal number of clusters: 5\n"
     ]
    }
   ],
   "source": [
    "# Get the optimal number of clusters\n",
    "best_k = elbow_visualizer.elbow_value_ if elbow_visualizer.elbow_value_ else 4\n",
    "print(f\"Optimal number of clusters: {best_k}\")"
   ]
  },
  {
   "cell_type": "code",
   "execution_count": 57,
   "metadata": {},
   "outputs": [],
   "source": [
    "# Apply K-Means with the optimal number of clusters\n",
    "kmeans_model = KMeans(n_clusters=best_k, random_state=42, n_init=10)\n",
    "df[\"Cluster_Label\"] = kmeans_model.fit_predict(cluster_features)"
   ]
  },
  {
   "cell_type": "code",
   "execution_count": 58,
   "metadata": {},
   "outputs": [
    {
     "name": "stdout",
     "output_type": "stream",
     "text": [
      "\n",
      "**K-Means Model Evaluation**:\n",
      "    Silhouette Score: 0.444 (Higher is better)\n",
      "    Davies-Bouldin Score: 0.822 (Lower is better)\n",
      "    Calinski-Harabasz Score: 150.946 (Higher is better)\n"
     ]
    }
   ],
   "source": [
    "# Evaluate the clustering model\n",
    "silhouette_avg = silhouette_score(cluster_features, df[\"Cluster_Label\"])\n",
    "davies_bouldin = davies_bouldin_score(cluster_features, df[\"Cluster_Label\"])\n",
    "calinski_harabasz = calinski_harabasz_score(cluster_features, df[\"Cluster_Label\"])\n",
    "\n",
    "print(\"\\n**K-Means Model Evaluation**:\")\n",
    "print(f\"    Silhouette Score: {silhouette_avg:.3f} (Higher is better)\")\n",
    "print(f\"    Davies-Bouldin Score: {davies_bouldin:.3f} (Lower is better)\")\n",
    "print(f\"    Calinski-Harabasz Score: {calinski_harabasz:.3f} (Higher is better)\")"
   ]
  },
  {
   "cell_type": "code",
   "execution_count": 59,
   "metadata": {},
   "outputs": [
    {
     "data": {
      "image/png": "[encoded data removed]",
      "text/plain": [
       "<Figure size 800x500 with 1 Axes>"
      ]
     },
     "metadata": {},
     "output_type": "display_data"
    },
    {
     "data": {
      "text/plain": [
       "<Axes: title={'center': 'Silhouette Plot of KMeans Clustering for 200 Samples in 5 Centers'}, xlabel='silhouette coefficient values', ylabel='cluster label'>"
      ]
     },
     "execution_count": 59,
     "metadata": {},
     "output_type": "execute_result"
    }
   ],
   "source": [
    "# Visualize Silhouette Score\n",
    "fig, ax = plt.subplots(figsize=(8, 5))\n",
    "silhouette_visualizer = SilhouetteVisualizer(kmeans_model, ax=ax, colors='yellowbrick')\n",
    "silhouette_visualizer.fit(cluster_features)\n",
    "silhouette_visualizer.show()"
   ]
  },
  {
   "cell_type": "code",
   "execution_count": 60,
   "metadata": {},
   "outputs": [
    {
     "data": {
      "image/png": "[encoded data removed]",
      "text/plain": [
       "<Figure size 800x600 with 1 Axes>"
      ]
     },
     "metadata": {},
     "output_type": "display_data"
    }
   ],
   "source": [
    "# Reduce dimensions using PCA to visualize clustering\n",
    "pca = PCA(n_components=2)\n",
    "pca_transformed = pca.fit_transform(cluster_features)\n",
    "\n",
    "# Visual chart with PCA\n",
    "plt.figure(figsize=(8, 6))\n",
    "sns.scatterplot(\n",
    "    x=pca_transformed[:, 0],\n",
    "    y=pca_transformed[:, 1],\n",
    "    hue=df[\"Cluster_Label\"],\n",
    "    palette=\"viridis\",\n",
    "    s=100,\n",
    "    alpha=0.7\n",
    ")\n",
    "plt.xlabel(\"PCA Component 1\")\n",
    "plt.ylabel(\"PCA Component 2\")\n",
    "plt.title(\"K-Means Clustering Visualization (PCA)\")\n",
    "plt.legend(title=\"Cluster\")\n",
    "plt.show()"
   ]
  },
  {
   "cell_type": "code",
   "execution_count": 61,
   "metadata": {},
   "outputs": [
    {
     "data": {
      "application/vnd.microsoft.datawrangler.viewer.v0+json": {
       "columns": [
        {
         "name": "index",
         "rawType": "int64",
         "type": "integer"
        },
        {
         "name": "CustomerID",
         "rawType": "int64",
         "type": "integer"
        },
        {
         "name": "Cluster_Label",
         "rawType": "int32",
         "type": "integer"
        }
       ],
       "conversionMethod": "pd.DataFrame",
       "ref": "8e5d9eb4-88cd-4351-a09c-ccdeaedc859c",
       "rows": [
        [
         "0",
         "1",
         "0"
        ],
        [
         "1",
         "2",
         "4"
        ],
        [
         "2",
         "3",
         "0"
        ],
        [
         "3",
         "4",
         "4"
        ],
        [
         "4",
         "5",
         "0"
        ],
        [
         "5",
         "6",
         "4"
        ],
        [
         "6",
         "7",
         "0"
        ],
        [
         "7",
         "8",
         "4"
        ],
        [
         "8",
         "9",
         "0"
        ],
        [
         "9",
         "10",
         "4"
        ],
        [
         "10",
         "11",
         "0"
        ],
        [
         "11",
         "12",
         "4"
        ],
        [
         "12",
         "13",
         "0"
        ],
        [
         "13",
         "14",
         "4"
        ],
        [
         "14",
         "15",
         "0"
        ],
        [
         "15",
         "16",
         "4"
        ],
        [
         "16",
         "17",
         "0"
        ],
        [
         "17",
         "18",
         "4"
        ],
        [
         "18",
         "19",
         "0"
        ],
        [
         "19",
         "20",
         "4"
        ],
        [
         "20",
         "21",
         "0"
        ],
        [
         "21",
         "22",
         "4"
        ],
        [
         "22",
         "23",
         "0"
        ],
        [
         "23",
         "24",
         "4"
        ],
        [
         "24",
         "25",
         "0"
        ],
        [
         "25",
         "26",
         "4"
        ],
        [
         "26",
         "27",
         "0"
        ],
        [
         "27",
         "28",
         "4"
        ],
        [
         "28",
         "29",
         "0"
        ],
        [
         "29",
         "30",
         "4"
        ],
        [
         "30",
         "31",
         "0"
        ],
        [
         "31",
         "32",
         "4"
        ],
        [
         "32",
         "33",
         "0"
        ],
        [
         "33",
         "34",
         "4"
        ],
        [
         "34",
         "35",
         "0"
        ],
        [
         "35",
         "36",
         "4"
        ],
        [
         "36",
         "37",
         "0"
        ],
        [
         "37",
         "38",
         "4"
        ],
        [
         "38",
         "39",
         "0"
        ],
        [
         "39",
         "40",
         "4"
        ],
        [
         "40",
         "41",
         "0"
        ],
        [
         "41",
         "42",
         "4"
        ],
        [
         "42",
         "43",
         "0"
        ],
        [
         "43",
         "44",
         "4"
        ],
        [
         "44",
         "45",
         "0"
        ],
        [
         "45",
         "46",
         "4"
        ],
        [
         "46",
         "47",
         "1"
        ],
        [
         "47",
         "48",
         "1"
        ],
        [
         "48",
         "49",
         "1"
        ],
        [
         "49",
         "50",
         "1"
        ]
       ],
       "shape": {
        "columns": 2,
        "rows": 200
       }
      },
      "text/html": [
       "<div>\n",
       "<style scoped>\n",
       "    .dataframe tbody tr th:only-of-type {\n",
       "        vertical-align: middle;\n",
       "    }\n",
       "\n",
       "    .dataframe tbody tr th {\n",
       "        vertical-align: top;\n",
       "    }\n",
       "\n",
       "    .dataframe thead th {\n",
       "        text-align: right;\n",
       "    }\n",
       "</style>\n",
       "<table border=\"1\" class=\"dataframe\">\n",
       "  <thead>\n",
       "    <tr style=\"text-align: right;\">\n",
       "      <th></th>\n",
       "      <th>CustomerID</th>\n",
       "      <th>Cluster_Label</th>\n",
       "    </tr>\n",
       "  </thead>\n",
       "  <tbody>\n",
       "    <tr>\n",
       "      <th>0</th>\n",
       "      <td>1</td>\n",
       "      <td>0</td>\n",
       "    </tr>\n",
       "    <tr>\n",
       "      <th>1</th>\n",
       "      <td>2</td>\n",
       "      <td>4</td>\n",
       "    </tr>\n",
       "    <tr>\n",
       "      <th>2</th>\n",
       "      <td>3</td>\n",
       "      <td>0</td>\n",
       "    </tr>\n",
       "    <tr>\n",
       "      <th>3</th>\n",
       "      <td>4</td>\n",
       "      <td>4</td>\n",
       "    </tr>\n",
       "    <tr>\n",
       "      <th>4</th>\n",
       "      <td>5</td>\n",
       "      <td>0</td>\n",
       "    </tr>\n",
       "    <tr>\n",
       "      <th>...</th>\n",
       "      <td>...</td>\n",
       "      <td>...</td>\n",
       "    </tr>\n",
       "    <tr>\n",
       "      <th>195</th>\n",
       "      <td>196</td>\n",
       "      <td>2</td>\n",
       "    </tr>\n",
       "    <tr>\n",
       "      <th>196</th>\n",
       "      <td>197</td>\n",
       "      <td>3</td>\n",
       "    </tr>\n",
       "    <tr>\n",
       "      <th>197</th>\n",
       "      <td>198</td>\n",
       "      <td>2</td>\n",
       "    </tr>\n",
       "    <tr>\n",
       "      <th>198</th>\n",
       "      <td>199</td>\n",
       "      <td>3</td>\n",
       "    </tr>\n",
       "    <tr>\n",
       "      <th>199</th>\n",
       "      <td>200</td>\n",
       "      <td>2</td>\n",
       "    </tr>\n",
       "  </tbody>\n",
       "</table>\n",
       "<p>200 rows × 2 columns</p>\n",
       "</div>"
      ],
      "text/plain": [
       "     CustomerID  Cluster_Label\n",
       "0             1              0\n",
       "1             2              4\n",
       "2             3              0\n",
       "3             4              4\n",
       "4             5              0\n",
       "..          ...            ...\n",
       "195         196              2\n",
       "196         197              3\n",
       "197         198              2\n",
       "198         199              3\n",
       "199         200              2\n",
       "\n",
       "[200 rows x 2 columns]"
      ]
     },
     "execution_count": 61,
     "metadata": {},
     "output_type": "execute_result"
    }
   ],
   "source": [
    "# Display data results after clustering\n",
    "df[[\"CustomerID\", \"Cluster_Label\"]]"
   ]
  },
  {
   "cell_type": "code",
   "execution_count": 62,
   "metadata": {},
   "outputs": [],
   "source": [
    "df[[\"CustomerID\", \"Cluster_Label\"]].to_csv(\"../data/kmeans_clustering_result.csv\", index=False)"
   ]
  }
 ],
 "metadata": {
  "kernelspec": {
   "display_name": "Python 3",
   "language": "python",
   "name": "python3"
  },
  "language_info": {
   "codemirror_mode": {
    "name": "ipython",
    "version": 3
   },
   "file_extension": ".py",
   "mimetype": "text/x-python",
   "name": "python",
   "nbconvert_exporter": "python",
   "pygments_lexer": "ipython3",
   "version": "3.11.9"
  }
 },
 "nbformat": 4,
 "nbformat_minor": 2
}
